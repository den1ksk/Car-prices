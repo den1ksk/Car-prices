{
 "cells": [
  {
   "cell_type": "markdown",
   "id": "cfee1ab7",
   "metadata": {
    "ExecuteTime": {
     "end_time": "2024-10-11T16:32:24.128636Z",
     "start_time": "2024-10-11T16:32:16.376309Z"
    }
   },
   "source": [
    "### Import necessary libraries"
   ]
  },
  {
   "cell_type": "code",
   "execution_count": 1,
   "id": "19208da6",
   "metadata": {
    "ExecuteTime": {
     "end_time": "2024-10-11T16:56:04.235305Z",
     "start_time": "2024-10-11T16:55:59.175412Z"
    }
   },
   "outputs": [],
   "source": [
    "import pandas as pd\n",
    "import numpy as np\n",
    "import matplotlib.pyplot as plt\n",
    "import seaborn as sns\n",
    "import warnings\n",
    "warnings.filterwarnings('ignore')\n",
    "from sklearn.model_selection import train_test_split, GridSearchCV\n",
    "from sklearn.preprocessing import StandardScaler, OneHotEncoder\n",
    "from sklearn.metrics import mean_squared_error, r2_score\n",
    "from sklearn.linear_model import Ridge, LinearRegression\n",
    "from sklearn.ensemble import StackingRegressor\n",
    "import scipy.stats as stats\n",
    "from xgboost import XGBRegressor\n",
    "import lightgbm as lgb"
   ]
  },
  {
   "cell_type": "markdown",
   "id": "5f1a556e",
   "metadata": {
    "ExecuteTime": {
     "end_time": "2024-10-11T16:32:28.097139Z",
     "start_time": "2024-10-11T16:32:24.132650Z"
    }
   },
   "source": [
    "### Load data"
   ]
  },
  {
   "cell_type": "code",
   "execution_count": 2,
   "id": "c19870f8",
   "metadata": {
    "ExecuteTime": {
     "end_time": "2024-10-11T16:56:05.011088Z",
     "start_time": "2024-10-11T16:56:04.239315Z"
    }
   },
   "outputs": [],
   "source": [
    "train = pd.read_csv('train.csv')\n",
    "test = pd.read_csv('test.csv')"
   ]
  },
  {
   "cell_type": "code",
   "execution_count": 3,
   "id": "3c984759",
   "metadata": {
    "ExecuteTime": {
     "end_time": "2024-10-11T16:56:05.041842Z",
     "start_time": "2024-10-11T16:56:05.013101Z"
    },
    "scrolled": true
   },
   "outputs": [
    {
     "data": {
      "text/html": [
       "<div>\n",
       "<style scoped>\n",
       "    .dataframe tbody tr th:only-of-type {\n",
       "        vertical-align: middle;\n",
       "    }\n",
       "\n",
       "    .dataframe tbody tr th {\n",
       "        vertical-align: top;\n",
       "    }\n",
       "\n",
       "    .dataframe thead th {\n",
       "        text-align: right;\n",
       "    }\n",
       "</style>\n",
       "<table border=\"1\" class=\"dataframe\">\n",
       "  <thead>\n",
       "    <tr style=\"text-align: right;\">\n",
       "      <th></th>\n",
       "      <th>id</th>\n",
       "      <th>brand</th>\n",
       "      <th>model</th>\n",
       "      <th>model_year</th>\n",
       "      <th>milage</th>\n",
       "      <th>fuel_type</th>\n",
       "      <th>engine</th>\n",
       "      <th>transmission</th>\n",
       "      <th>ext_col</th>\n",
       "      <th>int_col</th>\n",
       "      <th>accident</th>\n",
       "      <th>clean_title</th>\n",
       "      <th>price</th>\n",
       "    </tr>\n",
       "  </thead>\n",
       "  <tbody>\n",
       "    <tr>\n",
       "      <th>0</th>\n",
       "      <td>0</td>\n",
       "      <td>MINI</td>\n",
       "      <td>Cooper S Base</td>\n",
       "      <td>2007</td>\n",
       "      <td>213000</td>\n",
       "      <td>Gasoline</td>\n",
       "      <td>172.0HP 1.6L 4 Cylinder Engine Gasoline Fuel</td>\n",
       "      <td>A/T</td>\n",
       "      <td>Yellow</td>\n",
       "      <td>Gray</td>\n",
       "      <td>None reported</td>\n",
       "      <td>Yes</td>\n",
       "      <td>4200</td>\n",
       "    </tr>\n",
       "    <tr>\n",
       "      <th>1</th>\n",
       "      <td>1</td>\n",
       "      <td>Lincoln</td>\n",
       "      <td>LS V8</td>\n",
       "      <td>2002</td>\n",
       "      <td>143250</td>\n",
       "      <td>Gasoline</td>\n",
       "      <td>252.0HP 3.9L 8 Cylinder Engine Gasoline Fuel</td>\n",
       "      <td>A/T</td>\n",
       "      <td>Silver</td>\n",
       "      <td>Beige</td>\n",
       "      <td>At least 1 accident or damage reported</td>\n",
       "      <td>Yes</td>\n",
       "      <td>4999</td>\n",
       "    </tr>\n",
       "    <tr>\n",
       "      <th>2</th>\n",
       "      <td>2</td>\n",
       "      <td>Chevrolet</td>\n",
       "      <td>Silverado 2500 LT</td>\n",
       "      <td>2002</td>\n",
       "      <td>136731</td>\n",
       "      <td>E85 Flex Fuel</td>\n",
       "      <td>320.0HP 5.3L 8 Cylinder Engine Flex Fuel Capab...</td>\n",
       "      <td>A/T</td>\n",
       "      <td>Blue</td>\n",
       "      <td>Gray</td>\n",
       "      <td>None reported</td>\n",
       "      <td>Yes</td>\n",
       "      <td>13900</td>\n",
       "    </tr>\n",
       "    <tr>\n",
       "      <th>3</th>\n",
       "      <td>3</td>\n",
       "      <td>Genesis</td>\n",
       "      <td>G90 5.0 Ultimate</td>\n",
       "      <td>2017</td>\n",
       "      <td>19500</td>\n",
       "      <td>Gasoline</td>\n",
       "      <td>420.0HP 5.0L 8 Cylinder Engine Gasoline Fuel</td>\n",
       "      <td>Transmission w/Dual Shift Mode</td>\n",
       "      <td>Black</td>\n",
       "      <td>Black</td>\n",
       "      <td>None reported</td>\n",
       "      <td>Yes</td>\n",
       "      <td>45000</td>\n",
       "    </tr>\n",
       "    <tr>\n",
       "      <th>4</th>\n",
       "      <td>4</td>\n",
       "      <td>Mercedes-Benz</td>\n",
       "      <td>Metris Base</td>\n",
       "      <td>2021</td>\n",
       "      <td>7388</td>\n",
       "      <td>Gasoline</td>\n",
       "      <td>208.0HP 2.0L 4 Cylinder Engine Gasoline Fuel</td>\n",
       "      <td>7-Speed A/T</td>\n",
       "      <td>Black</td>\n",
       "      <td>Beige</td>\n",
       "      <td>None reported</td>\n",
       "      <td>Yes</td>\n",
       "      <td>97500</td>\n",
       "    </tr>\n",
       "  </tbody>\n",
       "</table>\n",
       "</div>"
      ],
      "text/plain": [
       "   id          brand              model  model_year  milage      fuel_type  \\\n",
       "0   0           MINI      Cooper S Base        2007  213000       Gasoline   \n",
       "1   1        Lincoln              LS V8        2002  143250       Gasoline   \n",
       "2   2      Chevrolet  Silverado 2500 LT        2002  136731  E85 Flex Fuel   \n",
       "3   3        Genesis   G90 5.0 Ultimate        2017   19500       Gasoline   \n",
       "4   4  Mercedes-Benz        Metris Base        2021    7388       Gasoline   \n",
       "\n",
       "                                              engine  \\\n",
       "0       172.0HP 1.6L 4 Cylinder Engine Gasoline Fuel   \n",
       "1       252.0HP 3.9L 8 Cylinder Engine Gasoline Fuel   \n",
       "2  320.0HP 5.3L 8 Cylinder Engine Flex Fuel Capab...   \n",
       "3       420.0HP 5.0L 8 Cylinder Engine Gasoline Fuel   \n",
       "4       208.0HP 2.0L 4 Cylinder Engine Gasoline Fuel   \n",
       "\n",
       "                     transmission ext_col int_col  \\\n",
       "0                             A/T  Yellow    Gray   \n",
       "1                             A/T  Silver   Beige   \n",
       "2                             A/T    Blue    Gray   \n",
       "3  Transmission w/Dual Shift Mode   Black   Black   \n",
       "4                     7-Speed A/T   Black   Beige   \n",
       "\n",
       "                                 accident clean_title  price  \n",
       "0                           None reported         Yes   4200  \n",
       "1  At least 1 accident or damage reported         Yes   4999  \n",
       "2                           None reported         Yes  13900  \n",
       "3                           None reported         Yes  45000  \n",
       "4                           None reported         Yes  97500  "
      ]
     },
     "execution_count": 3,
     "metadata": {},
     "output_type": "execute_result"
    }
   ],
   "source": [
    "train.head()"
   ]
  },
  {
   "cell_type": "code",
   "execution_count": 4,
   "id": "c9d901d7",
   "metadata": {
    "ExecuteTime": {
     "end_time": "2024-10-11T16:56:05.133675Z",
     "start_time": "2024-10-11T16:56:05.045851Z"
    }
   },
   "outputs": [
    {
     "name": "stdout",
     "output_type": "stream",
     "text": [
      "<class 'pandas.core.frame.DataFrame'>\n",
      "RangeIndex: 188533 entries, 0 to 188532\n",
      "Data columns (total 13 columns):\n",
      " #   Column        Non-Null Count   Dtype \n",
      "---  ------        --------------   ----- \n",
      " 0   id            188533 non-null  int64 \n",
      " 1   brand         188533 non-null  object\n",
      " 2   model         188533 non-null  object\n",
      " 3   model_year    188533 non-null  int64 \n",
      " 4   milage        188533 non-null  int64 \n",
      " 5   fuel_type     183450 non-null  object\n",
      " 6   engine        188533 non-null  object\n",
      " 7   transmission  188533 non-null  object\n",
      " 8   ext_col       188533 non-null  object\n",
      " 9   int_col       188533 non-null  object\n",
      " 10  accident      186081 non-null  object\n",
      " 11  clean_title   167114 non-null  object\n",
      " 12  price         188533 non-null  int64 \n",
      "dtypes: int64(4), object(9)\n",
      "memory usage: 18.7+ MB\n"
     ]
    }
   ],
   "source": [
    "train.info()"
   ]
  },
  {
   "cell_type": "markdown",
   "id": "accf6160",
   "metadata": {},
   "source": [
    "### Data preparation"
   ]
  },
  {
   "cell_type": "code",
   "execution_count": 5,
   "id": "f04eb349",
   "metadata": {
    "ExecuteTime": {
     "end_time": "2024-10-11T16:56:05.165305Z",
     "start_time": "2024-10-11T16:56:05.136690Z"
    }
   },
   "outputs": [],
   "source": [
    "train = train.drop(['id'], axis=1)\n",
    "id_ = test['id']"
   ]
  },
  {
   "cell_type": "code",
   "execution_count": 6,
   "id": "73c68c49",
   "metadata": {
    "ExecuteTime": {
     "end_time": "2024-10-11T16:56:05.186994Z",
     "start_time": "2024-10-11T16:56:05.168328Z"
    }
   },
   "outputs": [],
   "source": [
    "y = np.log1p(train['price'])"
   ]
  },
  {
   "cell_type": "code",
   "execution_count": 7,
   "id": "7e4cc8c1",
   "metadata": {
    "ExecuteTime": {
     "end_time": "2024-10-11T16:56:05.209007Z",
     "start_time": "2024-10-11T16:56:05.190008Z"
    }
   },
   "outputs": [
    {
     "data": {
      "text/plain": [
       "milage       -0.283067\n",
       "model_year    0.231795\n",
       "price         1.000000\n",
       "Name: price, dtype: float64"
      ]
     },
     "execution_count": 7,
     "metadata": {},
     "output_type": "execute_result"
    }
   ],
   "source": [
    "t_corr = train.select_dtypes(include=[float, int])\n",
    "t_corr.corr()['price'].sort_values()"
   ]
  },
  {
   "cell_type": "markdown",
   "id": "a2d828c6",
   "metadata": {},
   "source": [
    "### Visualization"
   ]
  },
  {
   "cell_type": "code",
   "execution_count": 8,
   "id": "996bec3d",
   "metadata": {
    "ExecuteTime": {
     "end_time": "2024-10-11T16:56:05.972786Z",
     "start_time": "2024-10-11T16:56:05.211018Z"
    },
    "scrolled": true
   },
   "outputs": [
    {
     "data": {
      "image/png": "[encoded data removed]",
      "text/plain": [
       "<Figure size 1000x600 with 1 Axes>"
      ]
     },
     "metadata": {},
     "output_type": "display_data"
    }
   ],
   "source": [
    "plt.figure(figsize=(10, 6))\n",
    "sns.countplot(data=train, x='model_year')\n",
    "plt.title('Distribution of cars by year of manufacture')\n",
    "plt.xlabel('Year of release')\n",
    "plt.ylabel('Number of cars')\n",
    "plt.xticks(rotation=45)\n",
    "plt.show()"
   ]
  },
  {
   "cell_type": "code",
   "execution_count": 9,
   "id": "0b451958",
   "metadata": {
    "ExecuteTime": {
     "end_time": "2024-10-11T16:56:06.239854Z",
     "start_time": "2024-10-11T16:56:05.975805Z"
    }
   },
   "outputs": [
    {
     "data": {
      "image/png": "[encoded data removed]",
      "text/plain": [
       "<Figure size 1200x600 with 1 Axes>"
      ]
     },
     "metadata": {},
     "output_type": "display_data"
    }
   ],
   "source": [
    "plt.figure(figsize=(12, 6))\n",
    "train['brand'].value_counts().nlargest(10).plot(kind='bar')\n",
    "plt.title('Top 10 brands by quantity')\n",
    "plt.xlabel('Brand')\n",
    "plt.ylabel('Quantity')\n",
    "plt.xticks(rotation=45)\n",
    "plt.show()"
   ]
  },
  {
   "cell_type": "markdown",
   "id": "940ae505",
   "metadata": {},
   "source": [
    "### Examining the data"
   ]
  },
  {
   "cell_type": "code",
   "execution_count": 10,
   "id": "a52ab5e7",
   "metadata": {
    "ExecuteTime": {
     "end_time": "2024-10-11T16:56:06.266374Z",
     "start_time": "2024-10-11T16:56:06.242864Z"
    }
   },
   "outputs": [
    {
     "name": "stdout",
     "output_type": "stream",
     "text": [
      "['MINI' 'Lincoln' 'Chevrolet' 'Genesis' 'Mercedes-Benz' 'Audi' 'Ford'\n",
      " 'BMW' 'Tesla' 'Cadillac' 'Land' 'GMC' 'Toyota' 'Hyundai' 'Volvo'\n",
      " 'Volkswagen' 'Buick' 'Rivian' 'RAM' 'Hummer' 'Alfa' 'INFINITI' 'Jeep'\n",
      " 'Porsche' 'McLaren' 'Honda' 'Lexus' 'Dodge' 'Nissan' 'Jaguar' 'Acura'\n",
      " 'Kia' 'Mitsubishi' 'Rolls-Royce' 'Maserati' 'Pontiac' 'Saturn' 'Bentley'\n",
      " 'Mazda' 'Subaru' 'Ferrari' 'Aston' 'Lamborghini' 'Chrysler' 'Lucid'\n",
      " 'Lotus' 'Scion' 'smart' 'Karma' 'Plymouth' 'Suzuki' 'FIAT' 'Saab'\n",
      " 'Bugatti' 'Mercury' 'Polestar' 'Maybach']\n"
     ]
    }
   ],
   "source": [
    "t_band = train['brand'].unique()\n",
    "print(t_band)"
   ]
  },
  {
   "cell_type": "code",
   "execution_count": 11,
   "id": "a6928450",
   "metadata": {
    "ExecuteTime": {
     "end_time": "2024-10-11T16:56:06.291453Z",
     "start_time": "2024-10-11T16:56:06.269386Z"
    }
   },
   "outputs": [
    {
     "name": "stdout",
     "output_type": "stream",
     "text": [
      "[2007 2002 2017 2021 2018 2016 2020 2015 2011 2013 2023 2019 2012 2014\n",
      " 2008 2009 2022 2003 2005 2001 2006 2000 2010 2004 1997 1998 1999 1994\n",
      " 1993 1996 1995 2024 1974 1992]\n"
     ]
    }
   ],
   "source": [
    "t_year = train['model_year'].unique()\n",
    "print(t_year)"
   ]
  },
  {
   "cell_type": "code",
   "execution_count": 12,
   "id": "6cd9afab",
   "metadata": {
    "ExecuteTime": {
     "end_time": "2024-10-11T16:56:06.313851Z",
     "start_time": "2024-10-11T16:56:06.294468Z"
    }
   },
   "outputs": [
    {
     "name": "stdout",
     "output_type": "stream",
     "text": [
      "['A/T' 'Transmission w/Dual Shift Mode' '7-Speed A/T' '8-Speed A/T'\n",
      " '10-Speed Automatic' '1-Speed A/T' '6-Speed A/T' '10-Speed A/T'\n",
      " '9-Speed A/T' '8-Speed Automatic' '9-Speed Automatic' '5-Speed A/T'\n",
      " 'Automatic' '7-Speed Automatic with Auto-Shift' 'CVT Transmission'\n",
      " '5-Speed M/T' 'M/T' '6-Speed M/T' '6-Speed Automatic' '4-Speed Automatic'\n",
      " '7-Speed M/T' '2-Speed A/T' '1-Speed Automatic' 'Automatic CVT'\n",
      " '4-Speed A/T' '6-Speed Manual' 'Transmission Overdrive Switch'\n",
      " '8-Speed Automatic with Auto-Shift' '7-Speed Manual' '7-Speed Automatic'\n",
      " '9-Speed Automatic with Auto-Shift' '6-Speed Automatic with Auto-Shift'\n",
      " '6-Speed Electronically Controlled Automatic with O' 'F' 'CVT-F'\n",
      " '8-Speed Manual' 'Manual' '–' '2' '6 Speed At/Mt' '5-Speed Automatic'\n",
      " '2-Speed Automatic' '8-SPEED A/T' '7-Speed' 'Variable'\n",
      " 'Single-Speed Fixed Gear' '8-SPEED AT'\n",
      " '10-Speed Automatic with Overdrive' '7-Speed DCT Automatic'\n",
      " 'SCHEDULED FOR OR IN PRODUCTION' '6-Speed' '6 Speed Mt']\n"
     ]
    }
   ],
   "source": [
    "t_transmission = train['transmission'].unique()\n",
    "print(t_transmission)"
   ]
  },
  {
   "cell_type": "code",
   "execution_count": 13,
   "id": "018fc652",
   "metadata": {
    "ExecuteTime": {
     "end_time": "2024-10-11T16:56:06.339399Z",
     "start_time": "2024-10-11T16:56:06.324887Z"
    }
   },
   "outputs": [
    {
     "name": "stdout",
     "output_type": "stream",
     "text": [
      "['None reported' 'At least 1 accident or damage reported' nan]\n"
     ]
    }
   ],
   "source": [
    "t_accident = train['accident'].unique()\n",
    "print(t_accident)"
   ]
  },
  {
   "cell_type": "code",
   "execution_count": 14,
   "id": "a9a32e16",
   "metadata": {
    "ExecuteTime": {
     "end_time": "2024-10-11T16:56:06.355758Z",
     "start_time": "2024-10-11T16:56:06.342414Z"
    }
   },
   "outputs": [
    {
     "name": "stdout",
     "output_type": "stream",
     "text": [
      "milage\n",
      "60000     1319\n",
      "170000    1246\n",
      "120000    1178\n",
      "110000    1155\n",
      "130000     970\n",
      "          ... \n",
      "5111         1\n",
      "29755        1\n",
      "28761        1\n",
      "170612       1\n",
      "134603       1\n",
      "Name: count, Length: 6651, dtype: int64\n"
     ]
    }
   ],
   "source": [
    "t_milage = train['milage'].value_counts()\n",
    "print(t_milage)"
   ]
  },
  {
   "cell_type": "markdown",
   "id": "d204f6fa",
   "metadata": {},
   "source": [
    "### Data preparation"
   ]
  },
  {
   "cell_type": "code",
   "execution_count": 15,
   "id": "86a0b2a8",
   "metadata": {
    "ExecuteTime": {
     "end_time": "2024-10-11T16:56:06.408031Z",
     "start_time": "2024-10-11T16:56:06.358775Z"
    }
   },
   "outputs": [],
   "source": [
    "train = train.drop(['price'], axis=1)\n",
    "test = test.drop(['id'], axis=1)"
   ]
  },
  {
   "cell_type": "code",
   "execution_count": 16,
   "id": "6029d068",
   "metadata": {
    "ExecuteTime": {
     "end_time": "2024-10-11T16:56:06.439390Z",
     "start_time": "2024-10-11T16:56:06.412045Z"
    }
   },
   "outputs": [
    {
     "data": {
      "text/html": [
       "<div>\n",
       "<style scoped>\n",
       "    .dataframe tbody tr th:only-of-type {\n",
       "        vertical-align: middle;\n",
       "    }\n",
       "\n",
       "    .dataframe tbody tr th {\n",
       "        vertical-align: top;\n",
       "    }\n",
       "\n",
       "    .dataframe thead th {\n",
       "        text-align: right;\n",
       "    }\n",
       "</style>\n",
       "<table border=\"1\" class=\"dataframe\">\n",
       "  <thead>\n",
       "    <tr style=\"text-align: right;\">\n",
       "      <th></th>\n",
       "      <th>brand</th>\n",
       "      <th>model</th>\n",
       "      <th>model_year</th>\n",
       "      <th>milage</th>\n",
       "      <th>fuel_type</th>\n",
       "      <th>engine</th>\n",
       "      <th>transmission</th>\n",
       "      <th>ext_col</th>\n",
       "      <th>int_col</th>\n",
       "      <th>accident</th>\n",
       "      <th>clean_title</th>\n",
       "    </tr>\n",
       "  </thead>\n",
       "  <tbody>\n",
       "    <tr>\n",
       "      <th>0</th>\n",
       "      <td>MINI</td>\n",
       "      <td>Cooper S Base</td>\n",
       "      <td>2007</td>\n",
       "      <td>213000</td>\n",
       "      <td>Gasoline</td>\n",
       "      <td>172.0HP 1.6L 4 Cylinder Engine Gasoline Fuel</td>\n",
       "      <td>A/T</td>\n",
       "      <td>Yellow</td>\n",
       "      <td>Gray</td>\n",
       "      <td>None reported</td>\n",
       "      <td>Yes</td>\n",
       "    </tr>\n",
       "    <tr>\n",
       "      <th>1</th>\n",
       "      <td>Lincoln</td>\n",
       "      <td>LS V8</td>\n",
       "      <td>2002</td>\n",
       "      <td>143250</td>\n",
       "      <td>Gasoline</td>\n",
       "      <td>252.0HP 3.9L 8 Cylinder Engine Gasoline Fuel</td>\n",
       "      <td>A/T</td>\n",
       "      <td>Silver</td>\n",
       "      <td>Beige</td>\n",
       "      <td>At least 1 accident or damage reported</td>\n",
       "      <td>Yes</td>\n",
       "    </tr>\n",
       "    <tr>\n",
       "      <th>2</th>\n",
       "      <td>Chevrolet</td>\n",
       "      <td>Silverado 2500 LT</td>\n",
       "      <td>2002</td>\n",
       "      <td>136731</td>\n",
       "      <td>E85 Flex Fuel</td>\n",
       "      <td>320.0HP 5.3L 8 Cylinder Engine Flex Fuel Capab...</td>\n",
       "      <td>A/T</td>\n",
       "      <td>Blue</td>\n",
       "      <td>Gray</td>\n",
       "      <td>None reported</td>\n",
       "      <td>Yes</td>\n",
       "    </tr>\n",
       "    <tr>\n",
       "      <th>3</th>\n",
       "      <td>Genesis</td>\n",
       "      <td>G90 5.0 Ultimate</td>\n",
       "      <td>2017</td>\n",
       "      <td>19500</td>\n",
       "      <td>Gasoline</td>\n",
       "      <td>420.0HP 5.0L 8 Cylinder Engine Gasoline Fuel</td>\n",
       "      <td>Transmission w/Dual Shift Mode</td>\n",
       "      <td>Black</td>\n",
       "      <td>Black</td>\n",
       "      <td>None reported</td>\n",
       "      <td>Yes</td>\n",
       "    </tr>\n",
       "    <tr>\n",
       "      <th>4</th>\n",
       "      <td>Mercedes-Benz</td>\n",
       "      <td>Metris Base</td>\n",
       "      <td>2021</td>\n",
       "      <td>7388</td>\n",
       "      <td>Gasoline</td>\n",
       "      <td>208.0HP 2.0L 4 Cylinder Engine Gasoline Fuel</td>\n",
       "      <td>7-Speed A/T</td>\n",
       "      <td>Black</td>\n",
       "      <td>Beige</td>\n",
       "      <td>None reported</td>\n",
       "      <td>Yes</td>\n",
       "    </tr>\n",
       "  </tbody>\n",
       "</table>\n",
       "</div>"
      ],
      "text/plain": [
       "           brand              model  model_year  milage      fuel_type  \\\n",
       "0           MINI      Cooper S Base        2007  213000       Gasoline   \n",
       "1        Lincoln              LS V8        2002  143250       Gasoline   \n",
       "2      Chevrolet  Silverado 2500 LT        2002  136731  E85 Flex Fuel   \n",
       "3        Genesis   G90 5.0 Ultimate        2017   19500       Gasoline   \n",
       "4  Mercedes-Benz        Metris Base        2021    7388       Gasoline   \n",
       "\n",
       "                                              engine  \\\n",
       "0       172.0HP 1.6L 4 Cylinder Engine Gasoline Fuel   \n",
       "1       252.0HP 3.9L 8 Cylinder Engine Gasoline Fuel   \n",
       "2  320.0HP 5.3L 8 Cylinder Engine Flex Fuel Capab...   \n",
       "3       420.0HP 5.0L 8 Cylinder Engine Gasoline Fuel   \n",
       "4       208.0HP 2.0L 4 Cylinder Engine Gasoline Fuel   \n",
       "\n",
       "                     transmission ext_col int_col  \\\n",
       "0                             A/T  Yellow    Gray   \n",
       "1                             A/T  Silver   Beige   \n",
       "2                             A/T    Blue    Gray   \n",
       "3  Transmission w/Dual Shift Mode   Black   Black   \n",
       "4                     7-Speed A/T   Black   Beige   \n",
       "\n",
       "                                 accident clean_title  \n",
       "0                           None reported         Yes  \n",
       "1  At least 1 accident or damage reported         Yes  \n",
       "2                           None reported         Yes  \n",
       "3                           None reported         Yes  \n",
       "4                           None reported         Yes  "
      ]
     },
     "execution_count": 16,
     "metadata": {},
     "output_type": "execute_result"
    }
   ],
   "source": [
    "df = pd.concat([train, test], axis=0)\n",
    "df.head()"
   ]
  },
  {
   "cell_type": "markdown",
   "id": "a74bdf82",
   "metadata": {},
   "source": [
    "### Functions for searching and processing missing values"
   ]
  },
  {
   "cell_type": "code",
   "execution_count": 17,
   "id": "5b8c4af0",
   "metadata": {
    "ExecuteTime": {
     "end_time": "2024-10-11T16:56:06.446580Z",
     "start_time": "2024-10-11T16:56:06.441403Z"
    }
   },
   "outputs": [],
   "source": [
    "def percent_missing(df):\n",
    "    total = 100 * df.isnull().sum() / len(df)\n",
    "    total = total[total > 0].sort_values(ascending=False)\n",
    "    return total"
   ]
  },
  {
   "cell_type": "code",
   "execution_count": 18,
   "id": "36daf454",
   "metadata": {
    "ExecuteTime": {
     "end_time": "2024-10-11T16:56:06.577096Z",
     "start_time": "2024-10-11T16:56:06.449597Z"
    }
   },
   "outputs": [
    {
     "data": {
      "text/plain": [
       "clean_title    11.347992\n",
       "fuel_type       2.694265\n",
       "accident        1.299714\n",
       "dtype: float64"
      ]
     },
     "execution_count": 18,
     "metadata": {},
     "output_type": "execute_result"
    }
   ],
   "source": [
    "missing = percent_missing(df)\n",
    "missing"
   ]
  },
  {
   "cell_type": "code",
   "execution_count": 19,
   "id": "0a63ed63",
   "metadata": {
    "ExecuteTime": {
     "end_time": "2024-10-11T16:56:06.588109Z",
     "start_time": "2024-10-11T16:56:06.580110Z"
    }
   },
   "outputs": [],
   "source": [
    "def missing_data(df):\n",
    "    df['fuel_type'].fillna(df['fuel_type'].mode()[0], inplace=True)\n",
    "    df['clean_title'].fillna('Unknown', inplace=True)\n",
    "    df['accident'].fillna('Unknown', inplace=True)\n",
    "    return df"
   ]
  },
  {
   "cell_type": "code",
   "execution_count": 20,
   "id": "2fef2655",
   "metadata": {
    "ExecuteTime": {
     "end_time": "2024-10-11T16:56:06.705951Z",
     "start_time": "2024-10-11T16:56:06.591806Z"
    }
   },
   "outputs": [],
   "source": [
    "df = missing_data(df)"
   ]
  },
  {
   "cell_type": "code",
   "execution_count": 21,
   "id": "56a4982b",
   "metadata": {
    "ExecuteTime": {
     "end_time": "2024-10-11T16:56:06.833193Z",
     "start_time": "2024-10-11T16:56:06.708974Z"
    }
   },
   "outputs": [
    {
     "data": {
      "text/plain": [
       "Series([], dtype: float64)"
      ]
     },
     "execution_count": 21,
     "metadata": {},
     "output_type": "execute_result"
    }
   ],
   "source": [
    "missing = perceg = percent_missing(df)\n",
    "missing"
   ]
  },
  {
   "cell_type": "markdown",
   "id": "e4a36b90",
   "metadata": {},
   "source": [
    "### Main functions"
   ]
  },
  {
   "cell_type": "code",
   "execution_count": 22,
   "id": "3a7652f1",
   "metadata": {
    "ExecuteTime": {
     "end_time": "2024-10-11T16:56:06.859620Z",
     "start_time": "2024-10-11T16:56:06.835799Z"
    }
   },
   "outputs": [],
   "source": [
    "current_year = 2024\n",
    "def year(df):\n",
    "    df['care_age'] = df['model_year'].apply(lambda x: current_year - x)\n",
    "    return df"
   ]
  },
  {
   "cell_type": "code",
   "execution_count": 23,
   "id": "a4229b90",
   "metadata": {
    "ExecuteTime": {
     "end_time": "2024-10-11T16:56:06.869945Z",
     "start_time": "2024-10-11T16:56:06.862630Z"
    }
   },
   "outputs": [],
   "source": [
    "def brand_class(brand):\n",
    "    premium = ['MINI', 'Lincoln', 'Genesis', 'Mercedes-Benz', 'Audi', 'BMW', 'Tesla', 'Land Rover', 'Volvo', 'Rivian', 'Porsche', 'McLaren', 'Lexus', 'Jaguar', 'Rolls-Royce', 'Maserati', 'Ferrari', 'Aston Martin', 'Lamborghini', 'Lotus', 'Bugatti', 'Polestar', 'Maybach']\n",
    "    \n",
    "    budget = ['Mitsubishi', 'Pontiac', 'Saturn', 'Scion', 'smart', 'Karma', 'Plymouth', 'Suzuki', 'FIAT', 'Saab', 'Mercury']\n",
    "    \n",
    "    if brand in premium:\n",
    "        return 'Premium'\n",
    "    elif brand in budget:\n",
    "        return 'Budget'\n",
    "    else:\n",
    "        return 'Medium'"
   ]
  },
  {
   "cell_type": "code",
   "execution_count": 24,
   "id": "459b45a8",
   "metadata": {
    "ExecuteTime": {
     "end_time": "2024-10-11T16:56:06.878707Z",
     "start_time": "2024-10-11T16:56:06.872970Z"
    }
   },
   "outputs": [],
   "source": [
    "def color_category(color):\n",
    "    premium_colors = ['Black', 'White', 'Silver', 'Gray', 'Blue']\n",
    "    budget_colors = ['Yellow', 'Green', 'Orange', 'Pink']\n",
    "\n",
    "    if color in premium_colors:\n",
    "        return 'Premium'\n",
    "    elif color in budget_colors:\n",
    "        return 'Budget'\n",
    "    else:\n",
    "        return 'Medium'"
   ]
  },
  {
   "cell_type": "code",
   "execution_count": 25,
   "id": "27bdc64d",
   "metadata": {
    "ExecuteTime": {
     "end_time": "2024-10-11T16:56:06.887298Z",
     "start_time": "2024-10-11T16:56:06.882723Z"
    }
   },
   "outputs": [],
   "source": [
    "def milage_group(milage):\n",
    "    if milage < 50000:\n",
    "        return 'Low'\n",
    "    elif 50000 <= milage < 100000:\n",
    "        return 'Medium'\n",
    "    else:\n",
    "        return 'High'"
   ]
  },
  {
   "cell_type": "code",
   "execution_count": 26,
   "id": "287a4c92",
   "metadata": {
    "ExecuteTime": {
     "end_time": "2024-10-11T16:56:06.895998Z",
     "start_time": "2024-10-11T16:56:06.890310Z"
    }
   },
   "outputs": [],
   "source": [
    "def year_group(year):\n",
    "    if year < 2000:\n",
    "        return 'Old'\n",
    "    elif 2000 <= year < 2010:\n",
    "        return '2000-2009'\n",
    "    elif 2010 <= year < 2020:\n",
    "        return '2010-2019'\n",
    "    else:\n",
    "        return 'New'"
   ]
  },
  {
   "cell_type": "code",
   "execution_count": 27,
   "id": "bc2d8bb3",
   "metadata": {
    "ExecuteTime": {
     "end_time": "2024-10-11T16:56:06.904997Z",
     "start_time": "2024-10-11T16:56:06.899011Z"
    }
   },
   "outputs": [],
   "source": [
    "def transmission_group(trans):\n",
    "    if 'A/T' in trans or 'Automatic' in trans:\n",
    "        return 'Automatic'\n",
    "    elif 'M/T' in trans or 'Manual' in trans:\n",
    "        return 'Manual'\n",
    "    elif 'CVT' in trans or 'DCT' in trans:\n",
    "        return 'CVT/DCT'\n",
    "    else:\n",
    "        return 'Other'"
   ]
  },
  {
   "cell_type": "code",
   "execution_count": 28,
   "id": "cf91c3eb",
   "metadata": {
    "ExecuteTime": {
     "end_time": "2024-10-11T16:56:06.916981Z",
     "start_time": "2024-10-11T16:56:06.908009Z"
    }
   },
   "outputs": [],
   "source": [
    "def encode(df):\n",
    "    ohe_features = ['brand_class', 'milage_group', 'year_group', 'transmission_group', 'color_category', 'accident', 'clean_title']\n",
    "    fe_features = ['brand', 'model', 'fuel_type']\n",
    "    num_features = ['model_year', 'milage', 'care_age']\n",
    "    \n",
    "    # One-Hot Encoding\n",
    "    ohe = OneHotEncoder(sparse_output=False, drop='first')\n",
    "    ohe_encoded = ohe.fit_transform(df[ohe_features])\n",
    "    ohe_columns = ohe.get_feature_names_out(ohe_features)\n",
    "    \n",
    "    # Frequency Encoding\n",
    "    fe_encoded = pd.DataFrame()\n",
    "    for feature in fe_features:\n",
    "        fe_encoded[feature] = df[feature].map(df[feature].value_counts(normalize=True))\n",
    "    \n",
    "    scaler = StandardScaler()\n",
    "    num_scaled = scaler.fit_transform(df[num_features])\n",
    "    \n",
    "    encoded_df = pd.concat([\n",
    "        pd.DataFrame(ohe_encoded, columns=ohe_columns, index=df.index),\n",
    "        fe_encoded,\n",
    "        pd.DataFrame(num_scaled, columns=num_features, index=df.index)\n",
    "    ], axis=1)\n",
    "    \n",
    "    return encoded_df"
   ]
  },
  {
   "cell_type": "markdown",
   "id": "62e2f951",
   "metadata": {
    "ExecuteTime": {
     "end_time": "2024-10-11T16:46:00.405018Z",
     "start_time": "2024-10-11T16:46:00.399947Z"
    }
   },
   "source": [
    "### Application of functions"
   ]
  },
  {
   "cell_type": "code",
   "execution_count": 29,
   "id": "3d5bcd15",
   "metadata": {
    "ExecuteTime": {
     "end_time": "2024-10-11T16:56:08.761833Z",
     "start_time": "2024-10-11T16:56:06.919992Z"
    }
   },
   "outputs": [],
   "source": [
    "df = year(df)\n",
    "df['brand_class'] = df['brand'].apply(brand_class)\n",
    "df['milage_group'] = df['milage'].apply(milage_group)\n",
    "df['year_group'] = df['model_year'].apply(year_group)\n",
    "df['transmission_group'] = df['transmission'].apply(transmission_group)\n",
    "df['color_category'] = df['ext_col'].apply(color_category)\n",
    "df = encode(df)"
   ]
  },
  {
   "cell_type": "code",
   "execution_count": 30,
   "id": "47d131e3",
   "metadata": {
    "ExecuteTime": {
     "end_time": "2024-10-11T16:56:08.794558Z",
     "start_time": "2024-10-11T16:56:08.764871Z"
    }
   },
   "outputs": [
    {
     "name": "stdout",
     "output_type": "stream",
     "text": [
      "<class 'pandas.core.frame.DataFrame'>\n",
      "Index: 314223 entries, 0 to 125689\n",
      "Data columns (total 21 columns):\n",
      " #   Column                      Non-Null Count   Dtype  \n",
      "---  ------                      --------------   -----  \n",
      " 0   brand_class_Medium          314223 non-null  float64\n",
      " 1   brand_class_Premium         314223 non-null  float64\n",
      " 2   milage_group_Low            314223 non-null  float64\n",
      " 3   milage_group_Medium         314223 non-null  float64\n",
      " 4   year_group_2010-2019        314223 non-null  float64\n",
      " 5   year_group_New              314223 non-null  float64\n",
      " 6   year_group_Old              314223 non-null  float64\n",
      " 7   transmission_group_CVT/DCT  314223 non-null  float64\n",
      " 8   transmission_group_Manual   314223 non-null  float64\n",
      " 9   transmission_group_Other    314223 non-null  float64\n",
      " 10  color_category_Medium       314223 non-null  float64\n",
      " 11  color_category_Premium      314223 non-null  float64\n",
      " 12  accident_None reported      314223 non-null  float64\n",
      " 13  accident_Unknown            314223 non-null  float64\n",
      " 14  clean_title_Yes             314223 non-null  float64\n",
      " 15  brand                       314223 non-null  float64\n",
      " 16  model                       314223 non-null  float64\n",
      " 17  fuel_type                   314223 non-null  float64\n",
      " 18  model_year                  314223 non-null  float64\n",
      " 19  milage                      314223 non-null  float64\n",
      " 20  care_age                    314223 non-null  float64\n",
      "dtypes: float64(21)\n",
      "memory usage: 52.7 MB\n"
     ]
    }
   ],
   "source": [
    "df.info()"
   ]
  },
  {
   "cell_type": "code",
   "execution_count": 31,
   "id": "f0e8d932",
   "metadata": {
    "ExecuteTime": {
     "end_time": "2024-10-11T16:56:08.827059Z",
     "start_time": "2024-10-11T16:56:08.797574Z"
    }
   },
   "outputs": [
    {
     "data": {
      "text/plain": [
       "Series([], dtype: float64)"
      ]
     },
     "execution_count": 31,
     "metadata": {},
     "output_type": "execute_result"
    }
   ],
   "source": [
    "missing = percent_missing(df)\n",
    "missing"
   ]
  },
  {
   "cell_type": "markdown",
   "id": "c06f440e",
   "metadata": {},
   "source": [
    "### Separation before training"
   ]
  },
  {
   "cell_type": "code",
   "execution_count": 32,
   "id": "df07fbce",
   "metadata": {
    "ExecuteTime": {
     "end_time": "2024-10-11T16:56:08.847411Z",
     "start_time": "2024-10-11T16:56:08.833071Z"
    }
   },
   "outputs": [],
   "source": [
    "train = df[:len(train)]\n",
    "test = df[len(train):]"
   ]
  },
  {
   "cell_type": "code",
   "execution_count": 33,
   "id": "3484ee37",
   "metadata": {
    "ExecuteTime": {
     "end_time": "2024-10-11T16:56:08.872248Z",
     "start_time": "2024-10-11T16:56:08.850424Z"
    }
   },
   "outputs": [
    {
     "name": "stdout",
     "output_type": "stream",
     "text": [
      "<class 'pandas.core.frame.DataFrame'>\n",
      "Index: 188533 entries, 0 to 188532\n",
      "Data columns (total 21 columns):\n",
      " #   Column                      Non-Null Count   Dtype  \n",
      "---  ------                      --------------   -----  \n",
      " 0   brand_class_Medium          188533 non-null  float64\n",
      " 1   brand_class_Premium         188533 non-null  float64\n",
      " 2   milage_group_Low            188533 non-null  float64\n",
      " 3   milage_group_Medium         188533 non-null  float64\n",
      " 4   year_group_2010-2019        188533 non-null  float64\n",
      " 5   year_group_New              188533 non-null  float64\n",
      " 6   year_group_Old              188533 non-null  float64\n",
      " 7   transmission_group_CVT/DCT  188533 non-null  float64\n",
      " 8   transmission_group_Manual   188533 non-null  float64\n",
      " 9   transmission_group_Other    188533 non-null  float64\n",
      " 10  color_category_Medium       188533 non-null  float64\n",
      " 11  color_category_Premium      188533 non-null  float64\n",
      " 12  accident_None reported      188533 non-null  float64\n",
      " 13  accident_Unknown            188533 non-null  float64\n",
      " 14  clean_title_Yes             188533 non-null  float64\n",
      " 15  brand                       188533 non-null  float64\n",
      " 16  model                       188533 non-null  float64\n",
      " 17  fuel_type                   188533 non-null  float64\n",
      " 18  model_year                  188533 non-null  float64\n",
      " 19  milage                      188533 non-null  float64\n",
      " 20  care_age                    188533 non-null  float64\n",
      "dtypes: float64(21)\n",
      "memory usage: 31.6 MB\n"
     ]
    }
   ],
   "source": [
    "train.info()"
   ]
  },
  {
   "cell_type": "code",
   "execution_count": 34,
   "id": "21ddc83c",
   "metadata": {
    "ExecuteTime": {
     "end_time": "2024-10-11T16:56:08.934534Z",
     "start_time": "2024-10-11T16:56:08.875267Z"
    }
   },
   "outputs": [],
   "source": [
    "X_train, X_test, y_train, y_test = train_test_split(train, y, test_size=0.3, random_state=1)"
   ]
  },
  {
   "cell_type": "code",
   "execution_count": 35,
   "id": "cc53016e",
   "metadata": {
    "ExecuteTime": {
     "end_time": "2024-10-11T16:56:08.948930Z",
     "start_time": "2024-10-11T16:56:08.938548Z"
    }
   },
   "outputs": [
    {
     "data": {
      "text/plain": [
       "((131973, 21), (56560, 21), (131973,), (56560,))"
      ]
     },
     "execution_count": 35,
     "metadata": {},
     "output_type": "execute_result"
    }
   ],
   "source": [
    "X_train.shape, X_test.shape, y_train.shape, y_test.shape"
   ]
  },
  {
   "cell_type": "markdown",
   "id": "0cc7160a",
   "metadata": {},
   "source": [
    "### Model Parameters"
   ]
  },
  {
   "cell_type": "code",
   "execution_count": 36,
   "id": "c3556232",
   "metadata": {
    "ExecuteTime": {
     "end_time": "2024-10-11T16:56:08.986324Z",
     "start_time": "2024-10-11T16:56:08.951548Z"
    }
   },
   "outputs": [],
   "source": [
    "params_lgb = {\n",
    "    'subsample': 0.3,\n",
    "    'reg_lambda': 9,\n",
    "    'reg_alpha': 0.69,\n",
    "    'num_leaves': 130,\n",
    "    'n_estimators': 1000,\n",
    "    'max_depth': 40,\n",
    "    'learning_rate': 0.01,\n",
    "    'colsample_bytree': 0.45,\n",
    "    'early_stopping': 30,\n",
    "    'verbose' : -1\n",
    "}"
   ]
  },
  {
   "cell_type": "code",
   "execution_count": 37,
   "id": "5844f44c",
   "metadata": {
    "ExecuteTime": {
     "end_time": "2024-10-11T16:56:08.994447Z",
     "start_time": "2024-10-11T16:56:08.990336Z"
    }
   },
   "outputs": [],
   "source": [
    "lgb_model = lgb.LGBMRegressor(**params_lgb)"
   ]
  },
  {
   "cell_type": "markdown",
   "id": "128124ac",
   "metadata": {},
   "source": [
    "### Model Training"
   ]
  },
  {
   "cell_type": "code",
   "execution_count": 38,
   "id": "2baf7d7c",
   "metadata": {
    "ExecuteTime": {
     "end_time": "2024-10-11T16:56:17.904073Z",
     "start_time": "2024-10-11T16:56:08.997460Z"
    }
   },
   "outputs": [
    {
     "data": {
      "text/html": [
       "<style>#sk-container-id-1 {\n",
       "  /* Definition of color scheme common for light and dark mode */\n",
       "  --sklearn-color-text: black;\n",
       "  --sklearn-color-line: gray;\n",
       "  /* Definition of color scheme for unfitted estimators */\n",
       "  --sklearn-color-unfitted-level-0: #fff5e6;\n",
       "  --sklearn-color-unfitted-level-1: #f6e4d2;\n",
       "  --sklearn-color-unfitted-level-2: #ffe0b3;\n",
       "  --sklearn-color-unfitted-level-3: chocolate;\n",
       "  /* Definition of color scheme for fitted estimators */\n",
       "  --sklearn-color-fitted-level-0: #f0f8ff;\n",
       "  --sklearn-color-fitted-level-1: #d4ebff;\n",
       "  --sklearn-color-fitted-level-2: #b3dbfd;\n",
       "  --sklearn-color-fitted-level-3: cornflowerblue;\n",
       "\n",
       "  /* Specific color for light theme */\n",
       "  --sklearn-color-text-on-default-background: var(--sg-text-color, var(--theme-code-foreground, var(--jp-content-font-color1, black)));\n",
       "  --sklearn-color-background: var(--sg-background-color, var(--theme-background, var(--jp-layout-color0, white)));\n",
       "  --sklearn-color-border-box: var(--sg-text-color, var(--theme-code-foreground, var(--jp-content-font-color1, black)));\n",
       "  --sklearn-color-icon: #696969;\n",
       "\n",
       "  @media (prefers-color-scheme: dark) {\n",
       "    /* Redefinition of color scheme for dark theme */\n",
       "    --sklearn-color-text-on-default-background: var(--sg-text-color, var(--theme-code-foreground, var(--jp-content-font-color1, white)));\n",
       "    --sklearn-color-background: var(--sg-background-color, var(--theme-background, var(--jp-layout-color0, #111)));\n",
       "    --sklearn-color-border-box: var(--sg-text-color, var(--theme-code-foreground, var(--jp-content-font-color1, white)));\n",
       "    --sklearn-color-icon: #878787;\n",
       "  }\n",
       "}\n",
       "\n",
       "#sk-container-id-1 {\n",
       "  color: var(--sklearn-color-text);\n",
       "}\n",
       "\n",
       "#sk-container-id-1 pre {\n",
       "  padding: 0;\n",
       "}\n",
       "\n",
       "#sk-container-id-1 input.sk-hidden--visually {\n",
       "  border: 0;\n",
       "  clip: rect(1px 1px 1px 1px);\n",
       "  clip: rect(1px, 1px, 1px, 1px);\n",
       "  height: 1px;\n",
       "  margin: -1px;\n",
       "  overflow: hidden;\n",
       "  padding: 0;\n",
       "  position: absolute;\n",
       "  width: 1px;\n",
       "}\n",
       "\n",
       "#sk-container-id-1 div.sk-dashed-wrapped {\n",
       "  border: 1px dashed var(--sklearn-color-line);\n",
       "  margin: 0 0.4em 0.5em 0.4em;\n",
       "  box-sizing: border-box;\n",
       "  padding-bottom: 0.4em;\n",
       "  background-color: var(--sklearn-color-background);\n",
       "}\n",
       "\n",
       "#sk-container-id-1 div.sk-container {\n",
       "  /* jupyter's `normalize.less` sets `[hidden] { display: none; }`\n",
       "     but bootstrap.min.css set `[hidden] { display: none !important; }`\n",
       "     so we also need the `!important` here to be able to override the\n",
       "     default hidden behavior on the sphinx rendered scikit-learn.org.\n",
       "     See: https://github.com/scikit-learn/scikit-learn/issues/21755 */\n",
       "  display: inline-block !important;\n",
       "  position: relative;\n",
       "}\n",
       "\n",
       "#sk-container-id-1 div.sk-text-repr-fallback {\n",
       "  display: none;\n",
       "}\n",
       "\n",
       "div.sk-parallel-item,\n",
       "div.sk-serial,\n",
       "div.sk-item {\n",
       "  /* draw centered vertical line to link estimators */\n",
       "  background-image: linear-gradient(var(--sklearn-color-text-on-default-background), var(--sklearn-color-text-on-default-background));\n",
       "  background-size: 2px 100%;\n",
       "  background-repeat: no-repeat;\n",
       "  background-position: center center;\n",
       "}\n",
       "\n",
       "/* Parallel-specific style estimator block */\n",
       "\n",
       "#sk-container-id-1 div.sk-parallel-item::after {\n",
       "  content: \"\";\n",
       "  width: 100%;\n",
       "  border-bottom: 2px solid var(--sklearn-color-text-on-default-background);\n",
       "  flex-grow: 1;\n",
       "}\n",
       "\n",
       "#sk-container-id-1 div.sk-parallel {\n",
       "  display: flex;\n",
       "  align-items: stretch;\n",
       "  justify-content: center;\n",
       "  background-color: var(--sklearn-color-background);\n",
       "  position: relative;\n",
       "}\n",
       "\n",
       "#sk-container-id-1 div.sk-parallel-item {\n",
       "  display: flex;\n",
       "  flex-direction: column;\n",
       "}\n",
       "\n",
       "#sk-container-id-1 div.sk-parallel-item:first-child::after {\n",
       "  align-self: flex-end;\n",
       "  width: 50%;\n",
       "}\n",
       "\n",
       "#sk-container-id-1 div.sk-parallel-item:last-child::after {\n",
       "  align-self: flex-start;\n",
       "  width: 50%;\n",
       "}\n",
       "\n",
       "#sk-container-id-1 div.sk-parallel-item:only-child::after {\n",
       "  width: 0;\n",
       "}\n",
       "\n",
       "/* Serial-specific style estimator block */\n",
       "\n",
       "#sk-container-id-1 div.sk-serial {\n",
       "  display: flex;\n",
       "  flex-direction: column;\n",
       "  align-items: center;\n",
       "  background-color: var(--sklearn-color-background);\n",
       "  padding-right: 1em;\n",
       "  padding-left: 1em;\n",
       "}\n",
       "\n",
       "\n",
       "/* Toggleable style: style used for estimator/Pipeline/ColumnTransformer box that is\n",
       "clickable and can be expanded/collapsed.\n",
       "- Pipeline and ColumnTransformer use this feature and define the default style\n",
       "- Estimators will overwrite some part of the style using the `sk-estimator` class\n",
       "*/\n",
       "\n",
       "/* Pipeline and ColumnTransformer style (default) */\n",
       "\n",
       "#sk-container-id-1 div.sk-toggleable {\n",
       "  /* Default theme specific background. It is overwritten whether we have a\n",
       "  specific estimator or a Pipeline/ColumnTransformer */\n",
       "  background-color: var(--sklearn-color-background);\n",
       "}\n",
       "\n",
       "/* Toggleable label */\n",
       "#sk-container-id-1 label.sk-toggleable__label {\n",
       "  cursor: pointer;\n",
       "  display: block;\n",
       "  width: 100%;\n",
       "  margin-bottom: 0;\n",
       "  padding: 0.5em;\n",
       "  box-sizing: border-box;\n",
       "  text-align: center;\n",
       "}\n",
       "\n",
       "#sk-container-id-1 label.sk-toggleable__label-arrow:before {\n",
       "  /* Arrow on the left of the label */\n",
       "  content: \"▸\";\n",
       "  float: left;\n",
       "  margin-right: 0.25em;\n",
       "  color: var(--sklearn-color-icon);\n",
       "}\n",
       "\n",
       "#sk-container-id-1 label.sk-toggleable__label-arrow:hover:before {\n",
       "  color: var(--sklearn-color-text);\n",
       "}\n",
       "\n",
       "/* Toggleable content - dropdown */\n",
       "\n",
       "#sk-container-id-1 div.sk-toggleable__content {\n",
       "  max-height: 0;\n",
       "  max-width: 0;\n",
       "  overflow: hidden;\n",
       "  text-align: left;\n",
       "  /* unfitted */\n",
       "  background-color: var(--sklearn-color-unfitted-level-0);\n",
       "}\n",
       "\n",
       "#sk-container-id-1 div.sk-toggleable__content.fitted {\n",
       "  /* fitted */\n",
       "  background-color: var(--sklearn-color-fitted-level-0);\n",
       "}\n",
       "\n",
       "#sk-container-id-1 div.sk-toggleable__content pre {\n",
       "  margin: 0.2em;\n",
       "  border-radius: 0.25em;\n",
       "  color: var(--sklearn-color-text);\n",
       "  /* unfitted */\n",
       "  background-color: var(--sklearn-color-unfitted-level-0);\n",
       "}\n",
       "\n",
       "#sk-container-id-1 div.sk-toggleable__content.fitted pre {\n",
       "  /* unfitted */\n",
       "  background-color: var(--sklearn-color-fitted-level-0);\n",
       "}\n",
       "\n",
       "#sk-container-id-1 input.sk-toggleable__control:checked~div.sk-toggleable__content {\n",
       "  /* Expand drop-down */\n",
       "  max-height: 200px;\n",
       "  max-width: 100%;\n",
       "  overflow: auto;\n",
       "}\n",
       "\n",
       "#sk-container-id-1 input.sk-toggleable__control:checked~label.sk-toggleable__label-arrow:before {\n",
       "  content: \"▾\";\n",
       "}\n",
       "\n",
       "/* Pipeline/ColumnTransformer-specific style */\n",
       "\n",
       "#sk-container-id-1 div.sk-label input.sk-toggleable__control:checked~label.sk-toggleable__label {\n",
       "  color: var(--sklearn-color-text);\n",
       "  background-color: var(--sklearn-color-unfitted-level-2);\n",
       "}\n",
       "\n",
       "#sk-container-id-1 div.sk-label.fitted input.sk-toggleable__control:checked~label.sk-toggleable__label {\n",
       "  background-color: var(--sklearn-color-fitted-level-2);\n",
       "}\n",
       "\n",
       "/* Estimator-specific style */\n",
       "\n",
       "/* Colorize estimator box */\n",
       "#sk-container-id-1 div.sk-estimator input.sk-toggleable__control:checked~label.sk-toggleable__label {\n",
       "  /* unfitted */\n",
       "  background-color: var(--sklearn-color-unfitted-level-2);\n",
       "}\n",
       "\n",
       "#sk-container-id-1 div.sk-estimator.fitted input.sk-toggleable__control:checked~label.sk-toggleable__label {\n",
       "  /* fitted */\n",
       "  background-color: var(--sklearn-color-fitted-level-2);\n",
       "}\n",
       "\n",
       "#sk-container-id-1 div.sk-label label.sk-toggleable__label,\n",
       "#sk-container-id-1 div.sk-label label {\n",
       "  /* The background is the default theme color */\n",
       "  color: var(--sklearn-color-text-on-default-background);\n",
       "}\n",
       "\n",
       "/* On hover, darken the color of the background */\n",
       "#sk-container-id-1 div.sk-label:hover label.sk-toggleable__label {\n",
       "  color: var(--sklearn-color-text);\n",
       "  background-color: var(--sklearn-color-unfitted-level-2);\n",
       "}\n",
       "\n",
       "/* Label box, darken color on hover, fitted */\n",
       "#sk-container-id-1 div.sk-label.fitted:hover label.sk-toggleable__label.fitted {\n",
       "  color: var(--sklearn-color-text);\n",
       "  background-color: var(--sklearn-color-fitted-level-2);\n",
       "}\n",
       "\n",
       "/* Estimator label */\n",
       "\n",
       "#sk-container-id-1 div.sk-label label {\n",
       "  font-family: monospace;\n",
       "  font-weight: bold;\n",
       "  display: inline-block;\n",
       "  line-height: 1.2em;\n",
       "}\n",
       "\n",
       "#sk-container-id-1 div.sk-label-container {\n",
       "  text-align: center;\n",
       "}\n",
       "\n",
       "/* Estimator-specific */\n",
       "#sk-container-id-1 div.sk-estimator {\n",
       "  font-family: monospace;\n",
       "  border: 1px dotted var(--sklearn-color-border-box);\n",
       "  border-radius: 0.25em;\n",
       "  box-sizing: border-box;\n",
       "  margin-bottom: 0.5em;\n",
       "  /* unfitted */\n",
       "  background-color: var(--sklearn-color-unfitted-level-0);\n",
       "}\n",
       "\n",
       "#sk-container-id-1 div.sk-estimator.fitted {\n",
       "  /* fitted */\n",
       "  background-color: var(--sklearn-color-fitted-level-0);\n",
       "}\n",
       "\n",
       "/* on hover */\n",
       "#sk-container-id-1 div.sk-estimator:hover {\n",
       "  /* unfitted */\n",
       "  background-color: var(--sklearn-color-unfitted-level-2);\n",
       "}\n",
       "\n",
       "#sk-container-id-1 div.sk-estimator.fitted:hover {\n",
       "  /* fitted */\n",
       "  background-color: var(--sklearn-color-fitted-level-2);\n",
       "}\n",
       "\n",
       "/* Specification for estimator info (e.g. \"i\" and \"?\") */\n",
       "\n",
       "/* Common style for \"i\" and \"?\" */\n",
       "\n",
       ".sk-estimator-doc-link,\n",
       "a:link.sk-estimator-doc-link,\n",
       "a:visited.sk-estimator-doc-link {\n",
       "  float: right;\n",
       "  font-size: smaller;\n",
       "  line-height: 1em;\n",
       "  font-family: monospace;\n",
       "  background-color: var(--sklearn-color-background);\n",
       "  border-radius: 1em;\n",
       "  height: 1em;\n",
       "  width: 1em;\n",
       "  text-decoration: none !important;\n",
       "  margin-left: 1ex;\n",
       "  /* unfitted */\n",
       "  border: var(--sklearn-color-unfitted-level-1) 1pt solid;\n",
       "  color: var(--sklearn-color-unfitted-level-1);\n",
       "}\n",
       "\n",
       ".sk-estimator-doc-link.fitted,\n",
       "a:link.sk-estimator-doc-link.fitted,\n",
       "a:visited.sk-estimator-doc-link.fitted {\n",
       "  /* fitted */\n",
       "  border: var(--sklearn-color-fitted-level-1) 1pt solid;\n",
       "  color: var(--sklearn-color-fitted-level-1);\n",
       "}\n",
       "\n",
       "/* On hover */\n",
       "div.sk-estimator:hover .sk-estimator-doc-link:hover,\n",
       ".sk-estimator-doc-link:hover,\n",
       "div.sk-label-container:hover .sk-estimator-doc-link:hover,\n",
       ".sk-estimator-doc-link:hover {\n",
       "  /* unfitted */\n",
       "  background-color: var(--sklearn-color-unfitted-level-3);\n",
       "  color: var(--sklearn-color-background);\n",
       "  text-decoration: none;\n",
       "}\n",
       "\n",
       "div.sk-estimator.fitted:hover .sk-estimator-doc-link.fitted:hover,\n",
       ".sk-estimator-doc-link.fitted:hover,\n",
       "div.sk-label-container:hover .sk-estimator-doc-link.fitted:hover,\n",
       ".sk-estimator-doc-link.fitted:hover {\n",
       "  /* fitted */\n",
       "  background-color: var(--sklearn-color-fitted-level-3);\n",
       "  color: var(--sklearn-color-background);\n",
       "  text-decoration: none;\n",
       "}\n",
       "\n",
       "/* Span, style for the box shown on hovering the info icon */\n",
       ".sk-estimator-doc-link span {\n",
       "  display: none;\n",
       "  z-index: 9999;\n",
       "  position: relative;\n",
       "  font-weight: normal;\n",
       "  right: .2ex;\n",
       "  padding: .5ex;\n",
       "  margin: .5ex;\n",
       "  width: min-content;\n",
       "  min-width: 20ex;\n",
       "  max-width: 50ex;\n",
       "  color: var(--sklearn-color-text);\n",
       "  box-shadow: 2pt 2pt 4pt #999;\n",
       "  /* unfitted */\n",
       "  background: var(--sklearn-color-unfitted-level-0);\n",
       "  border: .5pt solid var(--sklearn-color-unfitted-level-3);\n",
       "}\n",
       "\n",
       ".sk-estimator-doc-link.fitted span {\n",
       "  /* fitted */\n",
       "  background: var(--sklearn-color-fitted-level-0);\n",
       "  border: var(--sklearn-color-fitted-level-3);\n",
       "}\n",
       "\n",
       ".sk-estimator-doc-link:hover span {\n",
       "  display: block;\n",
       "}\n",
       "\n",
       "/* \"?\"-specific style due to the `<a>` HTML tag */\n",
       "\n",
       "#sk-container-id-1 a.estimator_doc_link {\n",
       "  float: right;\n",
       "  font-size: 1rem;\n",
       "  line-height: 1em;\n",
       "  font-family: monospace;\n",
       "  background-color: var(--sklearn-color-background);\n",
       "  border-radius: 1rem;\n",
       "  height: 1rem;\n",
       "  width: 1rem;\n",
       "  text-decoration: none;\n",
       "  /* unfitted */\n",
       "  color: var(--sklearn-color-unfitted-level-1);\n",
       "  border: var(--sklearn-color-unfitted-level-1) 1pt solid;\n",
       "}\n",
       "\n",
       "#sk-container-id-1 a.estimator_doc_link.fitted {\n",
       "  /* fitted */\n",
       "  border: var(--sklearn-color-fitted-level-1) 1pt solid;\n",
       "  color: var(--sklearn-color-fitted-level-1);\n",
       "}\n",
       "\n",
       "/* On hover */\n",
       "#sk-container-id-1 a.estimator_doc_link:hover {\n",
       "  /* unfitted */\n",
       "  background-color: var(--sklearn-color-unfitted-level-3);\n",
       "  color: var(--sklearn-color-background);\n",
       "  text-decoration: none;\n",
       "}\n",
       "\n",
       "#sk-container-id-1 a.estimator_doc_link.fitted:hover {\n",
       "  /* fitted */\n",
       "  background-color: var(--sklearn-color-fitted-level-3);\n",
       "}\n",
       "</style><div id=\"sk-container-id-1\" class=\"sk-top-container\"><div class=\"sk-text-repr-fallback\"><pre>LGBMRegressor(colsample_bytree=0.45, early_stopping=30, learning_rate=0.01,\n",
       "              max_depth=40, n_estimators=1000, num_leaves=130, reg_alpha=0.69,\n",
       "              reg_lambda=9, subsample=0.3, verbose=-1)</pre><b>In a Jupyter environment, please rerun this cell to show the HTML representation or trust the notebook. <br />On GitHub, the HTML representation is unable to render, please try loading this page with nbviewer.org.</b></div><div class=\"sk-container\" hidden><div class=\"sk-item\"><div class=\"sk-estimator fitted sk-toggleable\"><input class=\"sk-toggleable__control sk-hidden--visually\" id=\"sk-estimator-id-1\" type=\"checkbox\" checked><label for=\"sk-estimator-id-1\" class=\"sk-toggleable__label fitted sk-toggleable__label-arrow fitted\">&nbsp;LGBMRegressor<span class=\"sk-estimator-doc-link fitted\">i<span>Fitted</span></span></label><div class=\"sk-toggleable__content fitted\"><pre>LGBMRegressor(colsample_bytree=0.45, early_stopping=30, learning_rate=0.01,\n",
       "              max_depth=40, n_estimators=1000, num_leaves=130, reg_alpha=0.69,\n",
       "              reg_lambda=9, subsample=0.3, verbose=-1)</pre></div> </div></div></div></div>"
      ],
      "text/plain": [
       "LGBMRegressor(colsample_bytree=0.45, early_stopping=30, learning_rate=0.01,\n",
       "              max_depth=40, n_estimators=1000, num_leaves=130, reg_alpha=0.69,\n",
       "              reg_lambda=9, subsample=0.3, verbose=-1)"
      ]
     },
     "execution_count": 38,
     "metadata": {},
     "output_type": "execute_result"
    }
   ],
   "source": [
    "lgb_model.fit(X_train, y_train, \n",
    "              eval_set=[(X_test, y_test)], \n",
    "              eval_metric='rmse')"
   ]
  },
  {
   "cell_type": "code",
   "execution_count": 39,
   "id": "fbc0ee0c",
   "metadata": {
    "ExecuteTime": {
     "end_time": "2024-10-11T16:56:19.966501Z",
     "start_time": "2024-10-11T16:56:17.907086Z"
    },
    "scrolled": true
   },
   "outputs": [],
   "source": [
    "y_pred = lgb_model.predict(X_test)"
   ]
  },
  {
   "cell_type": "markdown",
   "id": "78451d4e",
   "metadata": {},
   "source": [
    "### Results"
   ]
  },
  {
   "cell_type": "code",
   "execution_count": 44,
   "id": "bea84b74",
   "metadata": {
    "ExecuteTime": {
     "end_time": "2024-10-11T17:01:48.126311Z",
     "start_time": "2024-10-11T17:01:48.114609Z"
    }
   },
   "outputs": [
    {
     "name": "stdout",
     "output_type": "stream",
     "text": [
      "MSE: 4516069113.7889\n",
      "RMSE: 67201.7047\n"
     ]
    }
   ],
   "source": [
    "mse = mean_squared_error(np.expm1(y_test), np.expm1(y_pred))\n",
    "rmse = np.sqrt(mse)\n",
    "\n",
    "print(f'MSE: {mse:.4f}')\n",
    "print(f'RMSE: {rmse:.4f}')"
   ]
  },
  {
   "cell_type": "code",
   "execution_count": 41,
   "id": "296785a2",
   "metadata": {
    "ExecuteTime": {
     "end_time": "2024-10-11T16:56:24.506363Z",
     "start_time": "2024-10-11T16:56:19.985284Z"
    }
   },
   "outputs": [],
   "source": [
    "df_pred = np.expm1(lgb_model.predict(test))"
   ]
  },
  {
   "cell_type": "markdown",
   "id": "8a691399",
   "metadata": {},
   "source": [
    "### Saving"
   ]
  },
  {
   "cell_type": "code",
   "execution_count": 42,
   "id": "0dce992f",
   "metadata": {
    "ExecuteTime": {
     "end_time": "2024-10-11T16:56:24.517391Z",
     "start_time": "2024-10-11T16:56:24.508910Z"
    }
   },
   "outputs": [],
   "source": [
    "predictions = pd.DataFrame({\n",
    "    'id': id_,\n",
    "    'price': df_pred\n",
    "})"
   ]
  },
  {
   "cell_type": "code",
   "execution_count": 43,
   "id": "be818343",
   "metadata": {
    "ExecuteTime": {
     "end_time": "2024-10-11T16:56:24.791486Z",
     "start_time": "2024-10-11T16:56:24.519992Z"
    }
   },
   "outputs": [],
   "source": [
    "predictions.to_csv('submission.csv', index=False)"
   ]
  }
 ],
 "metadata": {
  "kernelspec": {
   "display_name": "Python 3 (ipykernel)",
   "language": "python",
   "name": "python3"
  },
  "language_info": {
   "codemirror_mode": {
    "name": "ipython",
    "version": 3
   },
   "file_extension": ".py",
   "mimetype": "text/x-python",
   "name": "python",
   "nbconvert_exporter": "python",
   "pygments_lexer": "ipython3",
   "version": "3.12.3"
  },
  "toc": {
   "base_numbering": 1,
   "nav_menu": {},
   "number_sections": true,
   "sideBar": true,
   "skip_h1_title": false,
   "title_cell": "Table of Contents",
   "title_sidebar": "Contents",
   "toc_cell": false,
   "toc_position": {},
   "toc_section_display": true,
   "toc_window_display": false
  }
 },
 "nbformat": 4,
 "nbformat_minor": 5
}
